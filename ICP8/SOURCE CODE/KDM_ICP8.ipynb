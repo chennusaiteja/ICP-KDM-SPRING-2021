{
  "nbformat": 4,
  "nbformat_minor": 0,
  "metadata": {
    "colab": {
      "name": "KDM_ICP8.ipynb",
      "provenance": []
    },
    "kernelspec": {
      "name": "python3",
      "display_name": "Python 3"
    }
  },
  "cells": [
    {
      "cell_type": "code",
      "metadata": {
        "colab": {
          "base_uri": "https://localhost:8080/"
        },
        "id": "oGuR5YrDGVzE",
        "outputId": "58317fd3-37dc-451f-f1ed-8d4438e39d57"
      },
      "source": [
        "!pip install textacy\r\n",
        "import spacy\r\n",
        "import textacy"
      ],
      "execution_count": 1,
      "outputs": [
        {
          "output_type": "stream",
          "text": [
            "Collecting textacy\n",
            "\u001b[?25l  Downloading https://files.pythonhosted.org/packages/65/99/054efc5dea92c84a850639c490541de6cba29bc148debc3c73848c5e64c2/textacy-0.10.1-py3-none-any.whl (183kB)\n",
            "\u001b[K     |████████████████████████████████| 184kB 4.2MB/s \n",
            "\u001b[?25hRequirement already satisfied: cachetools>=2.0.1 in /usr/local/lib/python3.7/dist-packages (from textacy) (4.2.1)\n",
            "Requirement already satisfied: pyemd>=0.5.0 in /usr/local/lib/python3.7/dist-packages (from textacy) (0.5.1)\n",
            "Requirement already satisfied: requests>=2.10.0 in /usr/local/lib/python3.7/dist-packages (from textacy) (2.23.0)\n",
            "Requirement already satisfied: scipy>=0.17.0 in /usr/local/lib/python3.7/dist-packages (from textacy) (1.4.1)\n",
            "Requirement already satisfied: scikit-learn<0.24.0,>=0.19.0 in /usr/local/lib/python3.7/dist-packages (from textacy) (0.22.2.post1)\n",
            "Collecting pyphen>=0.9.4\n",
            "\u001b[?25l  Downloading https://files.pythonhosted.org/packages/7c/5a/5bc036e01389bc6a6667a932bac3e388de6e7fa5777a6ff50e652f60ec79/Pyphen-0.10.0-py3-none-any.whl (1.9MB)\n",
            "\u001b[K     |████████████████████████████████| 1.9MB 6.3MB/s \n",
            "\u001b[?25hRequirement already satisfied: networkx>=2.0 in /usr/local/lib/python3.7/dist-packages (from textacy) (2.5)\n",
            "Requirement already satisfied: spacy<3.0.0,>=2.2.0 in /usr/local/lib/python3.7/dist-packages (from textacy) (2.2.4)\n",
            "Requirement already satisfied: tqdm>=4.19.6 in /usr/local/lib/python3.7/dist-packages (from textacy) (4.41.1)\n",
            "Requirement already satisfied: numpy>=1.17.0 in /usr/local/lib/python3.7/dist-packages (from textacy) (1.19.5)\n",
            "Requirement already satisfied: joblib>=0.13.0 in /usr/local/lib/python3.7/dist-packages (from textacy) (1.0.1)\n",
            "Collecting jellyfish>=0.7.0\n",
            "\u001b[?25l  Downloading https://files.pythonhosted.org/packages/30/a6/4d039bc827a102f62ce7a7910713e38fdfd7c7a40aa39c72fb14938a1473/jellyfish-0.8.2-cp37-cp37m-manylinux2014_x86_64.whl (90kB)\n",
            "\u001b[K     |████████████████████████████████| 92kB 8.3MB/s \n",
            "\u001b[?25hRequirement already satisfied: srsly>=0.0.5 in /usr/local/lib/python3.7/dist-packages (from textacy) (1.0.5)\n",
            "Collecting cytoolz>=0.8.0\n",
            "\u001b[?25l  Downloading https://files.pythonhosted.org/packages/58/67/1c60da8ba831bfefedb64c78b9f6820bdf58972797c95644ee3191daf27a/cytoolz-0.11.0.tar.gz (477kB)\n",
            "\u001b[K     |████████████████████████████████| 481kB 17.8MB/s \n",
            "\u001b[?25hRequirement already satisfied: chardet<4,>=3.0.2 in /usr/local/lib/python3.7/dist-packages (from requests>=2.10.0->textacy) (3.0.4)\n",
            "Requirement already satisfied: idna<3,>=2.5 in /usr/local/lib/python3.7/dist-packages (from requests>=2.10.0->textacy) (2.10)\n",
            "Requirement already satisfied: urllib3!=1.25.0,!=1.25.1,<1.26,>=1.21.1 in /usr/local/lib/python3.7/dist-packages (from requests>=2.10.0->textacy) (1.24.3)\n",
            "Requirement already satisfied: certifi>=2017.4.17 in /usr/local/lib/python3.7/dist-packages (from requests>=2.10.0->textacy) (2020.12.5)\n",
            "Requirement already satisfied: decorator>=4.3.0 in /usr/local/lib/python3.7/dist-packages (from networkx>=2.0->textacy) (4.4.2)\n",
            "Requirement already satisfied: thinc==7.4.0 in /usr/local/lib/python3.7/dist-packages (from spacy<3.0.0,>=2.2.0->textacy) (7.4.0)\n",
            "Requirement already satisfied: murmurhash<1.1.0,>=0.28.0 in /usr/local/lib/python3.7/dist-packages (from spacy<3.0.0,>=2.2.0->textacy) (1.0.5)\n",
            "Requirement already satisfied: setuptools in /usr/local/lib/python3.7/dist-packages (from spacy<3.0.0,>=2.2.0->textacy) (54.0.0)\n",
            "Requirement already satisfied: cymem<2.1.0,>=2.0.2 in /usr/local/lib/python3.7/dist-packages (from spacy<3.0.0,>=2.2.0->textacy) (2.0.5)\n",
            "Requirement already satisfied: plac<1.2.0,>=0.9.6 in /usr/local/lib/python3.7/dist-packages (from spacy<3.0.0,>=2.2.0->textacy) (1.1.3)\n",
            "Requirement already satisfied: blis<0.5.0,>=0.4.0 in /usr/local/lib/python3.7/dist-packages (from spacy<3.0.0,>=2.2.0->textacy) (0.4.1)\n",
            "Requirement already satisfied: preshed<3.1.0,>=3.0.2 in /usr/local/lib/python3.7/dist-packages (from spacy<3.0.0,>=2.2.0->textacy) (3.0.5)\n",
            "Requirement already satisfied: wasabi<1.1.0,>=0.4.0 in /usr/local/lib/python3.7/dist-packages (from spacy<3.0.0,>=2.2.0->textacy) (0.8.2)\n",
            "Requirement already satisfied: catalogue<1.1.0,>=0.0.7 in /usr/local/lib/python3.7/dist-packages (from spacy<3.0.0,>=2.2.0->textacy) (1.0.0)\n",
            "Requirement already satisfied: toolz>=0.8.0 in /usr/local/lib/python3.7/dist-packages (from cytoolz>=0.8.0->textacy) (0.11.1)\n",
            "Requirement already satisfied: importlib-metadata>=0.20; python_version < \"3.8\" in /usr/local/lib/python3.7/dist-packages (from catalogue<1.1.0,>=0.0.7->spacy<3.0.0,>=2.2.0->textacy) (3.7.2)\n",
            "Requirement already satisfied: typing-extensions>=3.6.4; python_version < \"3.8\" in /usr/local/lib/python3.7/dist-packages (from importlib-metadata>=0.20; python_version < \"3.8\"->catalogue<1.1.0,>=0.0.7->spacy<3.0.0,>=2.2.0->textacy) (3.7.4.3)\n",
            "Requirement already satisfied: zipp>=0.5 in /usr/local/lib/python3.7/dist-packages (from importlib-metadata>=0.20; python_version < \"3.8\"->catalogue<1.1.0,>=0.0.7->spacy<3.0.0,>=2.2.0->textacy) (3.4.1)\n",
            "Building wheels for collected packages: cytoolz\n",
            "  Building wheel for cytoolz (setup.py) ... \u001b[?25l\u001b[?25hdone\n",
            "  Created wheel for cytoolz: filename=cytoolz-0.11.0-cp37-cp37m-linux_x86_64.whl size=1223269 sha256=ff558d45ea47a71ce44d6392d4ef84e199291b60b3e525418f139a61285b3363\n",
            "  Stored in directory: /root/.cache/pip/wheels/a1/32/3c/9c9926b510647cacdde744b2c7acdf1ccd5896fbb7f8d5df0c\n",
            "Successfully built cytoolz\n",
            "Installing collected packages: pyphen, jellyfish, cytoolz, textacy\n",
            "Successfully installed cytoolz-0.11.0 jellyfish-0.8.2 pyphen-0.10.0 textacy-0.10.1\n"
          ],
          "name": "stdout"
        }
      ]
    },
    {
      "cell_type": "code",
      "metadata": {
        "id": "hUCw_oscGZXR"
      },
      "source": [
        "\r\n",
        "# reading input files\r\n",
        "f = open('Triplet1.txt', 'r')\r\n",
        "# loading en_core_web_sm model\r\n",
        "nlp = spacy.load(\"en_core_web_sm\")\r\n",
        "doc = nlp(f.read())\r\n",
        "f.close()"
      ],
      "execution_count": 17,
      "outputs": []
    },
    {
      "cell_type": "code",
      "metadata": {
        "colab": {
          "base_uri": "https://localhost:8080/"
        },
        "id": "iOyB1PGzHsPJ",
        "outputId": "d174f939-205f-4039-ee4c-e02fb483c310"
      },
      "source": [
        "\r\n",
        "for token in doc:\r\n",
        "    print(token.text, token.pos_, token.dep_)"
      ],
      "execution_count": 18,
      "outputs": [
        {
          "output_type": "stream",
          "text": [
            "Python PROPN nsubj\n",
            "is AUX ROOT\n",
            "an DET det\n",
            "interpreted VERB amod\n",
            ", PUNCT punct\n",
            "high ADJ amod\n",
            "- PUNCT punct\n",
            "level NOUN nmod\n",
            "and CCONJ cc\n",
            "general ADJ amod\n",
            "- PUNCT punct\n",
            "purpose NOUN conj\n",
            "programming NOUN compound\n",
            "language NOUN attr\n",
            ". PUNCT punct\n",
            "Python PROPN poss\n",
            "'s PART case\n",
            "design NOUN compound\n",
            "philosophy NOUN nsubj\n",
            "emphasizes VERB ROOT\n",
            "code NOUN compound\n",
            "readability NOUN dobj\n",
            "with ADP prep\n",
            "its DET poss\n",
            "notable ADJ amod\n",
            "use NOUN pobj\n",
            "of ADP prep\n",
            "significant ADJ amod\n",
            "indentation NOUN pobj\n",
            ". PUNCT punct\n",
            "Its DET poss\n",
            "language NOUN compound\n",
            "constructs NOUN nsubj\n",
            "and CCONJ cc\n",
            "object NOUN npadvmod\n",
            "- PUNCT punct\n",
            "oriented VERB amod\n",
            "approach NOUN conj\n",
            "aim VERB ROOT\n",
            "to PART aux\n",
            "help VERB xcomp\n",
            "programmers NOUN nsubj\n",
            "write VERB ccomp\n",
            "clear ADJ amod\n",
            ", PUNCT punct\n",
            "logical ADJ amod\n",
            "code NOUN dobj\n",
            "for ADP prep\n",
            "small ADJ amod\n",
            "and CCONJ cc\n",
            "large ADJ conj\n",
            "- PUNCT punct\n",
            "scale NOUN compound\n",
            "projects NOUN pobj\n",
            ". PUNCT punct\n",
            "\n",
            "\n",
            " SPACE \n",
            "Python PROPN nsubj\n",
            "is AUX ROOT\n",
            "dynamically ADV advmod\n",
            "- PUNCT punct\n",
            "typed VERB acomp\n",
            "and CCONJ cc\n",
            "garbage NOUN npadvmod\n",
            "- PUNCT punct\n",
            "collected VERB conj\n",
            ". PUNCT punct\n",
            "It PRON nsubj\n",
            "supports VERB ROOT\n",
            "multiple ADJ amod\n",
            "programming NOUN compound\n",
            "paradigms NOUN dobj\n",
            ", PUNCT punct\n",
            "including VERB prep\n",
            "structured VERB pobj\n",
            "( PUNCT punct\n",
            "particularly ADV advmod\n",
            ", PUNCT punct\n",
            "procedural ADJ parataxis\n",
            ") PUNCT punct\n",
            ", PUNCT punct\n",
            "object NOUN npadvmod\n",
            "- PUNCT punct\n",
            "oriented VERB amod\n",
            "and CCONJ cc\n",
            "functional ADJ conj\n",
            "programming NOUN conj\n",
            ". PUNCT punct\n",
            "Python PROPN nsubjpass\n",
            "is AUX auxpass\n",
            "often ADV advmod\n",
            "described VERB ROOT\n",
            "as SCONJ prep\n",
            "a DET det\n",
            "\" PUNCT punct\n",
            "batteries NOUN pobj\n",
            "included VERB acl\n",
            "\" PUNCT punct\n",
            "language NOUN dobj\n",
            "due ADP prep\n",
            "to ADP pcomp\n",
            "its DET poss\n",
            "comprehensive ADJ amod\n",
            "standard ADJ amod\n",
            "library NOUN pobj\n",
            ". PUNCT punct\n"
          ],
          "name": "stdout"
        }
      ]
    },
    {
      "cell_type": "code",
      "metadata": {
        "id": "QI2dKRIJHvoK"
      },
      "source": [
        "tuples_list = []\r\n",
        "#extracting triplet using textacy library\r\n",
        "tuples = textacy.extract.subject_verb_object_triples(doc)\r\n",
        "tuples_to_list = list(tuples)\r\n",
        "if tuples_to_list != []:\r\n",
        "    tuples_list.append(tuples_to_list)"
      ],
      "execution_count": 19,
      "outputs": []
    },
    {
      "cell_type": "code",
      "metadata": {
        "colab": {
          "base_uri": "https://localhost:8080/"
        },
        "id": "BW2Qcg7tH1pz",
        "outputId": "00bac116-dacf-465d-c3e9-982073d665ab"
      },
      "source": [
        "\r\n",
        "print(tuples_list)"
      ],
      "execution_count": 23,
      "outputs": [
        {
          "output_type": "stream",
          "text": [
            "[[(design philosophy, emphasizes, code readability), (language constructs, aim, to help), (approach, aim, to help), (programmers, write, code), (It, supports, programming paradigms)]]\n"
          ],
          "name": "stdout"
        }
      ]
    }
  ]
}