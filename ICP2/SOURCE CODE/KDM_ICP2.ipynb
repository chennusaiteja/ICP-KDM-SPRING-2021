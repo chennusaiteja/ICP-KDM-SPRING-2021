{
  "nbformat": 4,
  "nbformat_minor": 0,
  "metadata": {
    "colab": {
      "name": "KDM_ICP2.ipynb",
      "provenance": [],
      "collapsed_sections": []
    },
    "kernelspec": {
      "name": "python3",
      "display_name": "Python 3"
    }
  },
  "cells": [
    {
      "cell_type": "code",
      "metadata": {
        "colab": {
          "base_uri": "https://localhost:8080/"
        },
        "id": "_9Q58YKM2OPp",
        "outputId": "ab6fcd45-0cb1-46a8-cc05-eb2b60645b69"
      },
      "source": [
        "from google.colab import drive\n",
        "drive.mount('/content/drive')"
      ],
      "execution_count": null,
      "outputs": [
        {
          "output_type": "stream",
          "text": [
            "Drive already mounted at /content/drive; to attempt to forcibly remount, call drive.mount(\"/content/drive\", force_remount=True).\n"
          ],
          "name": "stdout"
        }
      ]
    },
    {
      "cell_type": "code",
      "metadata": {
        "id": "JS58gNV24yOH"
      },
      "source": [
        "import nltk\r\n"
      ],
      "execution_count": null,
      "outputs": []
    },
    {
      "cell_type": "code",
      "metadata": {
        "id": "aKgPoLc_6dA2"
      },
      "source": [
        "from nltk.tokenize import word_tokenize, sent_tokenize "
      ],
      "execution_count": null,
      "outputs": []
    },
    {
      "cell_type": "code",
      "metadata": {
        "id": "LSLEHt3O6vIG"
      },
      "source": [
        "text = \"Xi Jinping is a Chinese politician who has served as General Secretary of the Chinese Communist Party (CCP) and Chairman of the Central Military Commission (CMC) since 2012, and President of the People's Republic of China (PRC) since 2013. He has been the paramount leader of China, the most prominent political leader in the country, since 2012. The son of Chinese Communist veteran Xi Zhongxun, he was exiled to rural Yanchuan County as a teenager following his father's purge during the Cultural Revolutionandlived in a cave in the village of Liangjiahe, where he joined the CCP and worked as the party secretary.\""
      ],
      "execution_count": null,
      "outputs": []
    },
    {
      "cell_type": "markdown",
      "metadata": {
        "id": "U43zcqcTuHV4"
      },
      "source": [
        "a.Part-of-speech (POS) tagger"
      ]
    },
    {
      "cell_type": "code",
      "metadata": {
        "colab": {
          "base_uri": "https://localhost:8080/"
        },
        "id": "FGA-zpaL7EhO",
        "outputId": "63179c11-12ca-483e-d794-9b069ef2d5be"
      },
      "source": [
        "import nltk \r\n",
        "\r\n",
        "from nltk.tokenize import PunktSentenceTokenizer\r\n",
        "from nltk.tokenize import word_tokenize, sent_tokenize \r\n",
        "nltk.download('punkt')\r\n",
        "  \r\n",
        "\r\n",
        "text = \"Xi Jinping is a Chinese politician who has served as General Secretary of the Chinese Communist Party (CCP) and Chairman of the Central Military Commission (CMC) since 2012, and President of the People's Republic of China (PRC) since 2013. He has been the paramount leader of China, the most prominent political leader in the country, since 2012. The son of Chinese Communist veteran Xi Zhongxun, he was exiled to rural Yanchuan County as a teenager following his father's purge during the Cultural Revolutionandlived in a cave in the village of Liangjiahe, where he joined the CCP and worked as the party secretary.\"\r\n",
        "\r\n",
        "tokenizer = sent_tokenize(text) \r\n",
        "nltk.download('averaged_perceptron_tagger')\r\n",
        "\r\n",
        "for j in tokenizer: \r\n",
        "      \r\n",
        "  \r\n",
        "    wordsList = nltk.word_tokenize(j) \r\n",
        "  \r\n",
        "\r\n",
        "    postag = nltk.pos_tag(wordsList) \r\n",
        "    print(postag)\r\n",
        "\r\n",
        "    print(\"\")\r\n"
      ],
      "execution_count": 31,
      "outputs": [
        {
          "output_type": "stream",
          "text": [
            "[nltk_data] Downloading package punkt to /root/nltk_data...\n",
            "[nltk_data]   Package punkt is already up-to-date!\n",
            "[nltk_data] Downloading package averaged_perceptron_tagger to\n",
            "[nltk_data]     /root/nltk_data...\n",
            "[nltk_data]   Package averaged_perceptron_tagger is already up-to-\n",
            "[nltk_data]       date!\n",
            "[('Xi', 'NN'), ('Jinping', 'NNP'), ('is', 'VBZ'), ('a', 'DT'), ('Chinese', 'JJ'), ('politician', 'NN'), ('who', 'WP'), ('has', 'VBZ'), ('served', 'VBN'), ('as', 'IN'), ('General', 'NNP'), ('Secretary', 'NNP'), ('of', 'IN'), ('the', 'DT'), ('Chinese', 'NNP'), ('Communist', 'NNP'), ('Party', 'NNP'), ('(', '('), ('CCP', 'NNP'), (')', ')'), ('and', 'CC'), ('Chairman', 'NNP'), ('of', 'IN'), ('the', 'DT'), ('Central', 'NNP'), ('Military', 'NNP'), ('Commission', 'NNP'), ('(', '('), ('CMC', 'NNP'), (')', ')'), ('since', 'IN'), ('2012', 'CD'), (',', ','), ('and', 'CC'), ('President', 'NNP'), ('of', 'IN'), ('the', 'DT'), ('People', 'NNP'), (\"'s\", 'POS'), ('Republic', 'NNP'), ('of', 'IN'), ('China', 'NNP'), ('(', '('), ('PRC', 'NNP'), (')', ')'), ('since', 'IN'), ('2013', 'CD'), ('.', '.')]\n",
            "\n",
            "[('He', 'PRP'), ('has', 'VBZ'), ('been', 'VBN'), ('the', 'DT'), ('paramount', 'JJ'), ('leader', 'NN'), ('of', 'IN'), ('China', 'NNP'), (',', ','), ('the', 'DT'), ('most', 'RBS'), ('prominent', 'JJ'), ('political', 'JJ'), ('leader', 'NN'), ('in', 'IN'), ('the', 'DT'), ('country', 'NN'), (',', ','), ('since', 'IN'), ('2012', 'CD'), ('.', '.')]\n",
            "\n",
            "[('The', 'DT'), ('son', 'NN'), ('of', 'IN'), ('Chinese', 'JJ'), ('Communist', 'NNP'), ('veteran', 'NN'), ('Xi', 'NNP'), ('Zhongxun', 'NNP'), (',', ','), ('he', 'PRP'), ('was', 'VBD'), ('exiled', 'VBN'), ('to', 'TO'), ('rural', 'JJ'), ('Yanchuan', 'NNP'), ('County', 'NNP'), ('as', 'IN'), ('a', 'DT'), ('teenager', 'NN'), ('following', 'VBG'), ('his', 'PRP$'), ('father', 'NN'), (\"'s\", 'POS'), ('purge', 'NN'), ('during', 'IN'), ('the', 'DT'), ('Cultural', 'NNP'), ('Revolutionandlived', 'NNP'), ('in', 'IN'), ('a', 'DT'), ('cave', 'NN'), ('in', 'IN'), ('the', 'DT'), ('village', 'NN'), ('of', 'IN'), ('Liangjiahe', 'NNP'), (',', ','), ('where', 'WRB'), ('he', 'PRP'), ('joined', 'VBD'), ('the', 'DT'), ('CCP', 'NNP'), ('and', 'CC'), ('worked', 'VBD'), ('as', 'IN'), ('the', 'DT'), ('party', 'NN'), ('secretary', 'NN'), ('.', '.')]\n",
            "\n"
          ],
          "name": "stdout"
        }
      ]
    },
    {
      "cell_type": "markdown",
      "metadata": {
        "id": "lLmp2bYqkG0L"
      },
      "source": [
        "b.Named entity recognizer (NER)"
      ]
    },
    {
      "cell_type": "code",
      "metadata": {
        "colab": {
          "base_uri": "https://localhost:8080/"
        },
        "id": "FKMcva7-l6Bd",
        "outputId": "e6b8774c-ab8f-4187-bebf-8dc8d8dbba60"
      },
      "source": [
        "import nltk \r\n",
        "\r\n",
        "from nltk.tokenize import PunktSentenceTokenizer\r\n",
        "from nltk.tokenize import word_tokenize, sent_tokenize \r\n",
        "nltk.download('punkt')\r\n",
        "  \r\n",
        "import spacy \r\n",
        "  \r\n",
        "text = \"Xi Jinping is a Chinese politician who has served as General Secretary of the Chinese Communist Party (CCP) and Chairman of the Central Military Commission (CMC) since 2012, and President of the People's Republic of China (PRC) since 2013. He has been the paramount leader of China, the most prominent political leader in the country, since 2012. The son of Chinese Communist veteran Xi Zhongxun, he was exiled to rural Yanchuan County as a teenager following his father's purge during the Cultural Revolutionandlived in a cave in the village of Liangjiahe, where he joined the CCP and worked as the party secretary.\"\r\n",
        "\r\n",
        "tokenizer = sent_tokenize(text) \r\n",
        "nltk.download('averaged_perceptron_tagger')\r\n",
        "print(\"{:s}\\t{}\".format(\"Word\",  \"NER\"))\r\n",
        "\r\n",
        "doc = nlp(text) \r\n",
        "  \r\n",
        "for ent in doc.ents: \r\n",
        "    print(ent.text, ent.label_, ent.lemma_) \r\n",
        "\r\n",
        "    print(\"\")"
      ],
      "execution_count": 32,
      "outputs": [
        {
          "output_type": "stream",
          "text": [
            "[nltk_data] Downloading package punkt to /root/nltk_data...\n",
            "[nltk_data]   Package punkt is already up-to-date!\n",
            "[nltk_data] Downloading package averaged_perceptron_tagger to\n",
            "[nltk_data]     /root/nltk_data...\n",
            "[nltk_data]   Package averaged_perceptron_tagger is already up-to-\n",
            "[nltk_data]       date!\n",
            "Word\tNER\n",
            "Xi Jinping PERSON Xi Jinping\n",
            "\n",
            "Chinese NORP chinese\n",
            "\n",
            "the Chinese Communist Party ORG the Chinese Communist Party\n",
            "\n",
            "CCP ORG CCP\n",
            "\n",
            "the Central Military Commission ORG the Central Military Commission\n",
            "\n",
            "2012 DATE 2012\n",
            "\n",
            "the People's Republic of China GPE the People 's Republic of China\n",
            "\n",
            "PRC GPE PRC\n",
            "\n",
            "2013 DATE 2013\n",
            "\n",
            "China GPE China\n",
            "\n",
            "2012 DATE 2012\n",
            "\n",
            "Chinese NORP Chinese\n",
            "\n",
            "Communist NORP communist\n",
            "\n",
            "Xi Zhongxun PERSON Xi Zhongxun\n",
            "\n",
            "Yanchuan County GPE Yanchuan County\n",
            "\n",
            "the Cultural Revolutionandlived EVENT the Cultural revolutionandlive\n",
            "\n",
            "Liangjiahe GPE Liangjiahe\n",
            "\n",
            "CCP ORG CCP\n",
            "\n"
          ],
          "name": "stdout"
        }
      ]
    },
    {
      "cell_type": "markdown",
      "metadata": {
        "id": "OF2QOBF5kW-B"
      },
      "source": [
        "d.Lemmatization"
      ]
    },
    {
      "cell_type": "code",
      "metadata": {
        "colab": {
          "base_uri": "https://localhost:8080/"
        },
        "id": "Spu726iirz5S",
        "outputId": "02d0a69a-a90e-4d38-ab94-e36239646a21"
      },
      "source": [
        "import spacy \r\n",
        "  \r\n",
        "# Load English tokenizer, tagger, \r\n",
        "# parser, NER and word vectors \r\n",
        "\r\n",
        "  \r\n",
        "text = \"Xi Jinping is a Chinese politician who has served as General Secretary of the Chinese Communist Party (CCP) and Chairman of the Central Military Commission (CMC) since 2012, and President of the People's Republic of China (PRC) since 2013. He has been the paramount leader of China, the most prominent political leader in the country, since 2012. The son of Chinese Communist veteran Xi Zhongxun, he was exiled to rural Yanchuan County as a teenager following his father's purge during the Cultural Revolutionandlived in a cave in the village of Liangjiahe, where he joined the CCP and worked as the party secretary.\"\r\n",
        "\r\n",
        "  \r\n",
        "doc = nlp(text) \r\n",
        "  \r\n",
        "for token in doc: \r\n",
        "  print(token, token.lemma_) \r\n"
      ],
      "execution_count": 29,
      "outputs": [
        {
          "output_type": "stream",
          "text": [
            "Xi Xi\n",
            "Jinping Jinping\n",
            "is be\n",
            "a a\n",
            "Chinese chinese\n",
            "politician politician\n",
            "who who\n",
            "has have\n",
            "served serve\n",
            "as as\n",
            "General General\n",
            "Secretary Secretary\n",
            "of of\n",
            "the the\n",
            "Chinese Chinese\n",
            "Communist Communist\n",
            "Party Party\n",
            "( (\n",
            "CCP CCP\n",
            ") )\n",
            "and and\n",
            "Chairman Chairman\n",
            "of of\n",
            "the the\n",
            "Central Central\n",
            "Military Military\n",
            "Commission Commission\n",
            "( (\n",
            "CMC CMC\n",
            ") )\n",
            "since since\n",
            "2012 2012\n",
            ", ,\n",
            "and and\n",
            "President President\n",
            "of of\n",
            "the the\n",
            "People People\n",
            "'s 's\n",
            "Republic Republic\n",
            "of of\n",
            "China China\n",
            "( (\n",
            "PRC PRC\n",
            ") )\n",
            "since since\n",
            "2013 2013\n",
            ". .\n",
            "He -PRON-\n",
            "has have\n",
            "been be\n",
            "the the\n",
            "paramount paramount\n",
            "leader leader\n",
            "of of\n",
            "China China\n",
            ", ,\n",
            "the the\n",
            "most most\n",
            "prominent prominent\n",
            "political political\n",
            "leader leader\n",
            "in in\n",
            "the the\n",
            "country country\n",
            ", ,\n",
            "since since\n",
            "2012 2012\n",
            ". .\n",
            "The the\n",
            "son son\n",
            "of of\n",
            "Chinese Chinese\n",
            "Communist communist\n",
            "veteran veteran\n",
            "Xi Xi\n",
            "Zhongxun Zhongxun\n",
            ", ,\n",
            "he -PRON-\n",
            "was be\n",
            "exiled exile\n",
            "to to\n",
            "rural rural\n",
            "Yanchuan Yanchuan\n",
            "County County\n",
            "as as\n",
            "a a\n",
            "teenager teenager\n",
            "following follow\n",
            "his -PRON-\n",
            "father father\n",
            "'s 's\n",
            "purge purge\n",
            "during during\n",
            "the the\n",
            "Cultural Cultural\n",
            "Revolutionandlived revolutionandlive\n",
            "in in\n",
            "a a\n",
            "cave cave\n",
            "in in\n",
            "the the\n",
            "village village\n",
            "of of\n",
            "Liangjiahe Liangjiahe\n",
            ", ,\n",
            "where where\n",
            "he -PRON-\n",
            "joined join\n",
            "the the\n",
            "CCP CCP\n",
            "and and\n",
            "worked work\n",
            "as as\n",
            "the the\n",
            "party party\n",
            "secretary secretary\n",
            ". .\n"
          ],
          "name": "stdout"
        }
      ]
    },
    {
      "cell_type": "markdown",
      "metadata": {
        "id": "ZLR_rM8-pHib"
      },
      "source": [
        "e.Parsing"
      ]
    },
    {
      "cell_type": "code",
      "metadata": {
        "colab": {
          "base_uri": "https://localhost:8080/"
        },
        "id": "JdndXffqxteA",
        "outputId": "911cd6db-4f3e-4743-8b31-d3aef253fe67"
      },
      "source": [
        "# Import required libraries \r\n",
        "import nltk \r\n",
        "nltk.download('punkt') \r\n",
        "nltk.download('averaged_perceptron_tagger') \r\n",
        "from nltk import pos_tag, word_tokenize, RegexpParser \r\n",
        "   \r\n",
        "# Example text \r\n",
        "text = \"Xi Jinping is a Chinese politician who has served as General Secretary of the Chinese Communist Party (CCP) and Chairman of the Central Military Commission (CMC) since 2012, and President of the People's Republic of China (PRC) since 2013. He has been the paramount leader of China, the most prominent political leader in the country, since 2012. The son of Chinese Communist veteran Xi Zhongxun, he was exiled to rural Yanchuan County as a teenager following his father's purge during the Cultural Revolutionandlived in a cave in the village of Liangjiahe, where he joined the CCP and worked as the party secretary.\"\r\n",
        "   \r\n",
        "# Find all parts of speech in above sentence \r\n",
        "tagged = pos_tag(word_tokenize(text)) \r\n",
        "   \r\n",
        "#Extract all parts of speech from any text \r\n",
        "chunker = RegexpParser(\"\"\" \r\n",
        "                       NP: {<DT>?<JJ>*<NN>}    #To extract Noun Phrases \r\n",
        "                       P: {<IN>}               #To extract Prepositions \r\n",
        "                       V: {<V.*>}              #To extract Verbs \r\n",
        "                       PP: {<P> <NP>}          #To extract Prepostional Phrases \r\n",
        "                       VP: {<V> <NP|PP>*}      #To extarct Verb Phrases \r\n",
        "                       \"\"\") \r\n",
        "  \r\n",
        "# Print all parts of speech in above sentence \r\n",
        "output = chunker.parse(tagged) \r\n",
        "print(\"After Extracting\\n\", output) \r\n",
        "\r\n"
      ],
      "execution_count": 33,
      "outputs": [
        {
          "output_type": "stream",
          "text": [
            "[nltk_data] Downloading package punkt to /root/nltk_data...\n",
            "[nltk_data]   Package punkt is already up-to-date!\n",
            "[nltk_data] Downloading package averaged_perceptron_tagger to\n",
            "[nltk_data]     /root/nltk_data...\n",
            "[nltk_data]   Package averaged_perceptron_tagger is already up-to-\n",
            "[nltk_data]       date!\n",
            "After Extracting\n",
            " (S\n",
            "  (NP Xi/NN)\n",
            "  Jinping/NNP\n",
            "  (VP (V is/VBZ) (NP a/DT Chinese/JJ politician/NN))\n",
            "  who/WP\n",
            "  (VP (V has/VBZ))\n",
            "  (VP (V served/VBN))\n",
            "  (P as/IN)\n",
            "  General/NNP\n",
            "  Secretary/NNP\n",
            "  (P of/IN)\n",
            "  the/DT\n",
            "  Chinese/NNP\n",
            "  Communist/NNP\n",
            "  Party/NNP\n",
            "  (/(\n",
            "  CCP/NNP\n",
            "  )/)\n",
            "  and/CC\n",
            "  Chairman/NNP\n",
            "  (P of/IN)\n",
            "  the/DT\n",
            "  Central/NNP\n",
            "  Military/NNP\n",
            "  Commission/NNP\n",
            "  (/(\n",
            "  CMC/NNP\n",
            "  )/)\n",
            "  (P since/IN)\n",
            "  2012/CD\n",
            "  ,/,\n",
            "  and/CC\n",
            "  President/NNP\n",
            "  (P of/IN)\n",
            "  the/DT\n",
            "  People/NNP\n",
            "  's/POS\n",
            "  Republic/NNP\n",
            "  (P of/IN)\n",
            "  China/NNP\n",
            "  (/(\n",
            "  PRC/NNP\n",
            "  )/)\n",
            "  (P since/IN)\n",
            "  2013/CD\n",
            "  ./.\n",
            "  He/PRP\n",
            "  (VP (V has/VBZ))\n",
            "  (VP (V been/VBN) (NP the/DT paramount/JJ leader/NN))\n",
            "  (P of/IN)\n",
            "  China/NNP\n",
            "  ,/,\n",
            "  the/DT\n",
            "  most/RBS\n",
            "  (NP prominent/JJ political/JJ leader/NN)\n",
            "  (PP (P in/IN) (NP the/DT country/NN))\n",
            "  ,/,\n",
            "  (P since/IN)\n",
            "  2012/CD\n",
            "  ./.\n",
            "  (NP The/DT son/NN)\n",
            "  (P of/IN)\n",
            "  Chinese/JJ\n",
            "  Communist/NNP\n",
            "  (NP veteran/NN)\n",
            "  Xi/NNP\n",
            "  Zhongxun/NNP\n",
            "  ,/,\n",
            "  he/PRP\n",
            "  (VP (V was/VBD))\n",
            "  (VP (V exiled/VBN))\n",
            "  to/TO\n",
            "  rural/JJ\n",
            "  Yanchuan/NNP\n",
            "  County/NNP\n",
            "  (PP (P as/IN) (NP a/DT teenager/NN))\n",
            "  (VP (V following/VBG))\n",
            "  his/PRP$\n",
            "  (NP father/NN)\n",
            "  's/POS\n",
            "  (NP purge/NN)\n",
            "  (P during/IN)\n",
            "  the/DT\n",
            "  Cultural/NNP\n",
            "  Revolutionandlived/NNP\n",
            "  (PP (P in/IN) (NP a/DT cave/NN))\n",
            "  (PP (P in/IN) (NP the/DT village/NN))\n",
            "  (P of/IN)\n",
            "  Liangjiahe/NNP\n",
            "  ,/,\n",
            "  where/WRB\n",
            "  he/PRP\n",
            "  (VP (V joined/VBD))\n",
            "  the/DT\n",
            "  CCP/NNP\n",
            "  and/CC\n",
            "  (VP\n",
            "    (V worked/VBD)\n",
            "    (PP (P as/IN) (NP the/DT party/NN))\n",
            "    (NP secretary/NN))\n",
            "  ./.)\n"
          ],
          "name": "stdout"
        }
      ]
    },
    {
      "cell_type": "markdown",
      "metadata": {
        "id": "RYpayuNo6A9r"
      },
      "source": [
        "c.Co-reference resolution\r\n",
        "```\r\n",
        "\r\n"
      ]
    },
    {
      "cell_type": "code",
      "metadata": {
        "colab": {
          "base_uri": "https://localhost:8080/",
          "height": 404
        },
        "id": "ZcfUmrnXCsNm",
        "outputId": "12ea606b-870b-4fae-c8b9-6f05ef9327c4"
      },
      "source": [
        "import spacy\r\n",
        "import en_core_web_sm\r\n",
        "nlp = spacy.load('en_core_web_sm')\r\n",
        "\r\n",
        "doc = nlp(u\"Xi Jinping is a Chinese politician who has served as General Secretary of the Chinese Communist Party (CCP) and Chairman of the Central Military Commission (CMC) since 2012, and President of the People's Republic of China (PRC) since 2013. He has been the paramount leader of China, the most prominent political leader in the country, since 2012. The son of Chinese Communist veteran Xi Zhongxun, he was exiled to rural Yanchuan County as a teenager following his father's purge during the Cultural Revolutionandlived in a cave in the village of Liangjiahe, where he joined the CCP and worked as the party secretary.\")\r\n",
        "print(doc._.has_coref)\r\n",
        "print(doc._.coref_clusters)\r\n"
      ],
      "execution_count": 24,
      "outputs": [
        {
          "output_type": "error",
          "ename": "OSError",
          "evalue": "ignored",
          "traceback": [
            "\u001b[0;31m---------------------------------------------------------------------------\u001b[0m",
            "\u001b[0;31mOSError\u001b[0m                                   Traceback (most recent call last)",
            "\u001b[0;32m<ipython-input-24-808bf6ba097b>\u001b[0m in \u001b[0;36m<module>\u001b[0;34m()\u001b[0m\n\u001b[1;32m      1\u001b[0m \u001b[0;32mimport\u001b[0m \u001b[0mspacy\u001b[0m\u001b[0;34m\u001b[0m\u001b[0;34m\u001b[0m\u001b[0m\n\u001b[1;32m      2\u001b[0m \u001b[0;32mimport\u001b[0m \u001b[0men_core_web_sm\u001b[0m\u001b[0;34m\u001b[0m\u001b[0;34m\u001b[0m\u001b[0m\n\u001b[0;32m----> 3\u001b[0;31m \u001b[0mnlp\u001b[0m \u001b[0;34m=\u001b[0m \u001b[0mspacy\u001b[0m\u001b[0;34m.\u001b[0m\u001b[0mload\u001b[0m\u001b[0;34m(\u001b[0m\u001b[0;34m'en_core_web_sm'\u001b[0m\u001b[0;34m)\u001b[0m\u001b[0;34m\u001b[0m\u001b[0;34m\u001b[0m\u001b[0m\n\u001b[0m\u001b[1;32m      4\u001b[0m \u001b[0;34m\u001b[0m\u001b[0m\n\u001b[1;32m      5\u001b[0m \u001b[0mdoc\u001b[0m \u001b[0;34m=\u001b[0m \u001b[0mnlp\u001b[0m\u001b[0;34m(\u001b[0m\u001b[0;34mu'Phone area code will be valid only when all the below conditions are met. It cannot be left blank. It should be numeric. It cannot be less than 200. Minimum number of digits should be 3.'\u001b[0m\u001b[0;34m)\u001b[0m\u001b[0;34m\u001b[0m\u001b[0;34m\u001b[0m\u001b[0m\n",
            "\u001b[0;32m/usr/local/lib/python3.6/dist-packages/spacy/__init__.py\u001b[0m in \u001b[0;36mload\u001b[0;34m(name, **overrides)\u001b[0m\n\u001b[1;32m     28\u001b[0m \u001b[0;34m\u001b[0m\u001b[0m\n\u001b[1;32m     29\u001b[0m def load(\n\u001b[0;32m---> 30\u001b[0;31m     \u001b[0mname\u001b[0m\u001b[0;34m:\u001b[0m \u001b[0mUnion\u001b[0m\u001b[0;34m[\u001b[0m\u001b[0mstr\u001b[0m\u001b[0;34m,\u001b[0m \u001b[0mPath\u001b[0m\u001b[0;34m]\u001b[0m\u001b[0;34m,\u001b[0m\u001b[0;34m\u001b[0m\u001b[0;34m\u001b[0m\u001b[0m\n\u001b[0m\u001b[1;32m     31\u001b[0m     \u001b[0mdisable\u001b[0m\u001b[0;34m:\u001b[0m \u001b[0mIterable\u001b[0m\u001b[0;34m[\u001b[0m\u001b[0mstr\u001b[0m\u001b[0;34m]\u001b[0m \u001b[0;34m=\u001b[0m \u001b[0mutil\u001b[0m\u001b[0;34m.\u001b[0m\u001b[0mSimpleFrozenList\u001b[0m\u001b[0;34m(\u001b[0m\u001b[0;34m)\u001b[0m\u001b[0;34m,\u001b[0m\u001b[0;34m\u001b[0m\u001b[0;34m\u001b[0m\u001b[0m\n\u001b[1;32m     32\u001b[0m     \u001b[0mexclude\u001b[0m\u001b[0;34m:\u001b[0m \u001b[0mIterable\u001b[0m\u001b[0;34m[\u001b[0m\u001b[0mstr\u001b[0m\u001b[0;34m]\u001b[0m \u001b[0;34m=\u001b[0m \u001b[0mutil\u001b[0m\u001b[0;34m.\u001b[0m\u001b[0mSimpleFrozenList\u001b[0m\u001b[0;34m(\u001b[0m\u001b[0;34m)\u001b[0m\u001b[0;34m,\u001b[0m\u001b[0;34m\u001b[0m\u001b[0;34m\u001b[0m\u001b[0m\n",
            "\u001b[0;32m/usr/local/lib/python3.6/dist-packages/spacy/util.py\u001b[0m in \u001b[0;36mload_model\u001b[0;34m(name, **overrides)\u001b[0m\n\u001b[1;32m    157\u001b[0m     \"\"\"Simplified implementation of a frozen dict, mainly used as default\n\u001b[1;32m    158\u001b[0m     function or method argument (for arguments that should default to empty\n\u001b[0;32m--> 159\u001b[0;31m     dictionary). Will raise an error if user or spaCy attempts to add to dict.\n\u001b[0m\u001b[1;32m    160\u001b[0m     \"\"\"\n\u001b[1;32m    161\u001b[0m \u001b[0;34m\u001b[0m\u001b[0m\n",
            "\u001b[0;31mOSError\u001b[0m: [E049] Can't find spaCy data directory: 'None'. Check your installation and permissions, or use spacy.util.set_data_path to customise the location if necessary."
          ]
        }
      ]
    }
  ]
}