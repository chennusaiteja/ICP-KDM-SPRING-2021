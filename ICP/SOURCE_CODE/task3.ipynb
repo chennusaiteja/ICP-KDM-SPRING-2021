{
  "nbformat": 4,
  "nbformat_minor": 0,
  "metadata": {
    "colab": {
      "name": "task3.ipynb",
      "provenance": [],
      "collapsed_sections": [],
      "mount_file_id": "1J31ZGyiq41MaByt7i5crBT3zbBlBkIIn",
      "authorship_tag": "ABX9TyNOX+u+17BKtBmDjEaGiP3B",
      "include_colab_link": true
    },
    "kernelspec": {
      "name": "python3",
      "display_name": "Python 3"
    }
  },
  "cells": [
    {
      "cell_type": "markdown",
      "metadata": {
        "id": "view-in-github",
        "colab_type": "text"
      },
      "source": [
        "<a href=\"https://colab.research.google.com/github/chennusaiteja/ICP-KDM-SPRING-2021/blob/main/task3.ipynb\" target=\"_parent\"><img src=\"https://colab.research.google.com/assets/colab-badge.svg\" alt=\"Open In Colab\"/></a>"
      ]
    },
    {
      "cell_type": "code",
      "metadata": {
        "colab": {
          "base_uri": "https://localhost:8080/"
        },
        "id": "4GS5ifkgweLz",
        "outputId": "5be48e40-0a45-45c5-880e-c3fd7cb6b521"
      },
      "source": [
        "#importing all libraries\r\n",
        "import nltk\r\n",
        "nltk.download('punkt')\r\n",
        "import pandas as pd\r\n",
        "from nltk.tokenize import sent_tokenize\r\n",
        "from nltk.tokenize import word_tokenize\r\n",
        "from nltk.probability import FreqDist\r\n",
        "import matplotlib.pyplot as plt"
      ],
      "execution_count": 2,
      "outputs": [
        {
          "output_type": "stream",
          "text": [
            "[nltk_data] Downloading package punkt to /root/nltk_data...\n",
            "[nltk_data]   Unzipping tokenizers/punkt.zip.\n"
          ],
          "name": "stdout"
        }
      ]
    },
    {
      "cell_type": "markdown",
      "metadata": {
        "id": "BrSmgEgdHgvj"
      },
      "source": [
        "Reading the files as a pandas dataframe"
      ]
    },
    {
      "cell_type": "code",
      "metadata": {
        "colab": {
          "base_uri": "https://localhost:8080/",
          "height": 144
        },
        "id": "UAg8H_XSxUcD",
        "outputId": "15579330-2e8e-460e-f99a-7c5787a4c203"
      },
      "source": [
        "dataset= pd.read_csv(\"/content/drive/MyDrive/ICP_DATA/task3.txt\", delimiter=\"\\t\")\r\n",
        "dataset"
      ],
      "execution_count": 3,
      "outputs": [
        {
          "output_type": "execute_result",
          "data": {
            "text/html": [
              "<div>\n",
              "<style scoped>\n",
              "    .dataframe tbody tr th:only-of-type {\n",
              "        vertical-align: middle;\n",
              "    }\n",
              "\n",
              "    .dataframe tbody tr th {\n",
              "        vertical-align: top;\n",
              "    }\n",
              "\n",
              "    .dataframe thead th {\n",
              "        text-align: right;\n",
              "    }\n",
              "</style>\n",
              "<table border=\"1\" class=\"dataframe\">\n",
              "  <thead>\n",
              "    <tr style=\"text-align: right;\">\n",
              "      <th></th>\n",
              "      <th>Apache Hadoop ( /həˈduːp/) is a collection of open-source software utilities that facilitates using a network of many computers to solve problems involving massive amounts of data and computation. It provides a software framework for distributed storage and processing of big data using the MapReduce programming model. Hadoop was originally designed for computer clusters built from commodity hardware, which is still the common use.[3] It has since also found use on clusters of higher-end hardware.[4][5] All the modules in Hadoop are designed with a fundamental assumption that hardware failures are common occurrences and should be automatically handled by the framework.[6]</th>\n",
              "    </tr>\n",
              "  </thead>\n",
              "  <tbody>\n",
              "    <tr>\n",
              "      <th>0</th>\n",
              "      <td>The core of Apache Hadoop consists of a storag...</td>\n",
              "    </tr>\n",
              "  </tbody>\n",
              "</table>\n",
              "</div>"
            ],
            "text/plain": [
              "  Apache Hadoop ( /həˈduːp/) is a collection of open-source software utilities that facilitates using a network of many computers to solve problems involving massive amounts of data and computation. It provides a software framework for distributed storage and processing of big data using the MapReduce programming model. Hadoop was originally designed for computer clusters built from commodity hardware, which is still the common use.[3] It has since also found use on clusters of higher-end hardware.[4][5] All the modules in Hadoop are designed with a fundamental assumption that hardware failures are common occurrences and should be automatically handled by the framework.[6]\n",
              "0  The core of Apache Hadoop consists of a storag...                                                                                                                                                                                                                                                                                                                                                                                                                                                                                                                                                                                                                                                     "
            ]
          },
          "metadata": {
            "tags": []
          },
          "execution_count": 3
        }
      ]
    },
    {
      "cell_type": "markdown",
      "metadata": {
        "id": "z5lumpaPHjT4"
      },
      "source": [
        "converting the data frame to text"
      ]
    },
    {
      "cell_type": "code",
      "metadata": {
        "colab": {
          "base_uri": "https://localhost:8080/",
          "height": 187
        },
        "id": "kPWiB__ixuzv",
        "outputId": "adf81ab3-8366-4e98-e6e8-78b531e6fadd"
      },
      "source": [
        "text= dataset.to_string()\r\n",
        "text"
      ],
      "execution_count": 4,
      "outputs": [
        {
          "output_type": "execute_result",
          "data": {
            "application/vnd.google.colaboratory.intrinsic+json": {
              "type": "string"
            },
            "text/plain": [
              "'  Apache Hadoop ( /həˈduːp/) is a collection of open-source software utilities that facilitates using a network of many computers to solve problems involving massive amounts of data and computation. It provides a software framework for distributed storage and processing of big data using the MapReduce programming model. Hadoop was originally designed for computer clusters built from commodity hardware, which is still the common use.[3] It has since also found use on clusters of higher-end hardware.[4][5] All the modules in Hadoop are designed with a fundamental assumption that hardware failures are common occurrences and should be automatically handled by the framework.[6]\\n0  The core of Apache Hadoop consists of a storage part, known as Hadoop Distributed File System (HDFS), and a processing part which is a MapReduce programming model. Hadoop splits files into large blocks and distributes them across nodes in a cluster. It then transfers packaged code into nodes to process the data in parallel. This approach takes advantage of data locality,[7] where nodes manipulate the data they have access to. This allows the dataset to be processed faster and more efficiently than it would be in a more conventional supercomputer architecture that relies on a parallel file system where computation and data are distributed via high-speed networking.[8][9]'"
            ]
          },
          "metadata": {
            "tags": []
          },
          "execution_count": 4
        }
      ]
    },
    {
      "cell_type": "markdown",
      "metadata": {
        "id": "ToiY8a6CHlY5"
      },
      "source": [
        "Breaking the text into sentences"
      ]
    },
    {
      "cell_type": "code",
      "metadata": {
        "colab": {
          "base_uri": "https://localhost:8080/"
        },
        "id": "yBZag3Z0x24G",
        "outputId": "ca9a39ff-9a73-4b2b-bf64-cf7a54d310ed"
      },
      "source": [
        "tokenized_text = sent_tokenize(text)\r\n",
        "print(tokenized_text)"
      ],
      "execution_count": 5,
      "outputs": [
        {
          "output_type": "stream",
          "text": [
            "['  Apache Hadoop ( /həˈduːp/) is a collection of open-source software utilities that facilitates using a network of many computers to solve problems involving massive amounts of data and computation.', 'It provides a software framework for distributed storage and processing of big data using the MapReduce programming model.', 'Hadoop was originally designed for computer clusters built from commodity hardware, which is still the common use.', '[3] It has since also found use on clusters of higher-end hardware.', '[4][5] All the modules in Hadoop are designed with a fundamental assumption that hardware failures are common occurrences and should be automatically handled by the framework.', '[6]\\n0  The core of Apache Hadoop consists of a storage part, known as Hadoop Distributed File System (HDFS), and a processing part which is a MapReduce programming model.', 'Hadoop splits files into large blocks and distributes them across nodes in a cluster.', 'It then transfers packaged code into nodes to process the data in parallel.', 'This approach takes advantage of data locality,[7] where nodes manipulate the data they have access to.', 'This allows the dataset to be processed faster and more efficiently than it would be in a more conventional supercomputer architecture that relies on a parallel file system where computation and data are distributed via high-speed networking.', '[8][9]']\n"
          ],
          "name": "stdout"
        }
      ]
    },
    {
      "cell_type": "markdown",
      "metadata": {
        "id": "qbB03FjAHoLy"
      },
      "source": [
        "Breaking the text into words"
      ]
    },
    {
      "cell_type": "code",
      "metadata": {
        "colab": {
          "base_uri": "https://localhost:8080/"
        },
        "id": "NeVYWf9XyFiH",
        "outputId": "49baee7e-3368-484f-b67c-47bea1e82fff"
      },
      "source": [
        "tokenized_word=word_tokenize(text)\r\n",
        "print(tokenized_word)\r\n",
        "print(len(tokenized_word))"
      ],
      "execution_count": 6,
      "outputs": [
        {
          "output_type": "stream",
          "text": [
            "['Apache', 'Hadoop', '(', '/həˈduːp/', ')', 'is', 'a', 'collection', 'of', 'open-source', 'software', 'utilities', 'that', 'facilitates', 'using', 'a', 'network', 'of', 'many', 'computers', 'to', 'solve', 'problems', 'involving', 'massive', 'amounts', 'of', 'data', 'and', 'computation', '.', 'It', 'provides', 'a', 'software', 'framework', 'for', 'distributed', 'storage', 'and', 'processing', 'of', 'big', 'data', 'using', 'the', 'MapReduce', 'programming', 'model', '.', 'Hadoop', 'was', 'originally', 'designed', 'for', 'computer', 'clusters', 'built', 'from', 'commodity', 'hardware', ',', 'which', 'is', 'still', 'the', 'common', 'use', '.', '[', '3', ']', 'It', 'has', 'since', 'also', 'found', 'use', 'on', 'clusters', 'of', 'higher-end', 'hardware', '.', '[', '4', ']', '[', '5', ']', 'All', 'the', 'modules', 'in', 'Hadoop', 'are', 'designed', 'with', 'a', 'fundamental', 'assumption', 'that', 'hardware', 'failures', 'are', 'common', 'occurrences', 'and', 'should', 'be', 'automatically', 'handled', 'by', 'the', 'framework', '.', '[', '6', ']', '0', 'The', 'core', 'of', 'Apache', 'Hadoop', 'consists', 'of', 'a', 'storage', 'part', ',', 'known', 'as', 'Hadoop', 'Distributed', 'File', 'System', '(', 'HDFS', ')', ',', 'and', 'a', 'processing', 'part', 'which', 'is', 'a', 'MapReduce', 'programming', 'model', '.', 'Hadoop', 'splits', 'files', 'into', 'large', 'blocks', 'and', 'distributes', 'them', 'across', 'nodes', 'in', 'a', 'cluster', '.', 'It', 'then', 'transfers', 'packaged', 'code', 'into', 'nodes', 'to', 'process', 'the', 'data', 'in', 'parallel', '.', 'This', 'approach', 'takes', 'advantage', 'of', 'data', 'locality', ',', '[', '7', ']', 'where', 'nodes', 'manipulate', 'the', 'data', 'they', 'have', 'access', 'to', '.', 'This', 'allows', 'the', 'dataset', 'to', 'be', 'processed', 'faster', 'and', 'more', 'efficiently', 'than', 'it', 'would', 'be', 'in', 'a', 'more', 'conventional', 'supercomputer', 'architecture', 'that', 'relies', 'on', 'a', 'parallel', 'file', 'system', 'where', 'computation', 'and', 'data', 'are', 'distributed', 'via', 'high-speed', 'networking', '.', '[', '8', ']', '[', '9', ']']\n",
            "246\n"
          ],
          "name": "stdout"
        }
      ]
    },
    {
      "cell_type": "markdown",
      "metadata": {
        "id": "wz-t-TcBHqto"
      },
      "source": [
        "Finding the frequencies distribution"
      ]
    },
    {
      "cell_type": "code",
      "metadata": {
        "colab": {
          "base_uri": "https://localhost:8080/"
        },
        "id": "-eY4p5-VyosB",
        "outputId": "d6c741ef-7e04-4007-937d-50f74c58c14a"
      },
      "source": [
        "fdlist= FreqDist(tokenized_word)\r\n",
        "print(fdlist)"
      ],
      "execution_count": 8,
      "outputs": [
        {
          "output_type": "stream",
          "text": [
            "<FreqDist with 138 samples and 246 outcomes>\n"
          ],
          "name": "stdout"
        }
      ]
    },
    {
      "cell_type": "markdown",
      "metadata": {
        "id": "lYINDBwjHtID"
      },
      "source": [
        "Finding the two most common words"
      ]
    },
    {
      "cell_type": "code",
      "metadata": {
        "colab": {
          "base_uri": "https://localhost:8080/"
        },
        "id": "9dQWPsnoy2W6",
        "outputId": "2c6df22b-c68a-493e-e694-b02c91b7893d"
      },
      "source": [
        "fdlist.most_common(2)"
      ],
      "execution_count": 9,
      "outputs": [
        {
          "output_type": "execute_result",
          "data": {
            "text/plain": [
              "[('a', 10), ('.', 10)]"
            ]
          },
          "metadata": {
            "tags": []
          },
          "execution_count": 9
        }
      ]
    },
    {
      "cell_type": "markdown",
      "metadata": {
        "id": "dCIV8A6DHwuZ"
      },
      "source": [
        "Plot of the frequencies distribution"
      ]
    },
    {
      "cell_type": "code",
      "metadata": {
        "colab": {
          "base_uri": "https://localhost:8080/",
          "height": 337
        },
        "id": "Yx1j3X1cy_QW",
        "outputId": "6c52226b-5154-4650-9d3c-f618ee3d3f8d"
      },
      "source": [
        "v= fdlist.plot(85, cumulative=False)\r\n",
        "plt.show()"
      ],
      "execution_count": 10,
      "outputs": [
        {
          "output_type": "display_data",
          "data": {
            "image/png": "[encoded data removed]",
            "text/plain": [
              "<Figure size 432x288 with 1 Axes>"
            ]
          },
          "metadata": {
            "tags": [],
            "needs_background": "light"
          }
        }
      ]
    }
  ]
}